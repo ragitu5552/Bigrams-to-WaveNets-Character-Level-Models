{
 "cells": [
  {
   "cell_type": "code",
   "execution_count": 1,
   "id": "3ff59f72-5281-4132-85e9-c096ba57b527",
   "metadata": {},
   "outputs": [],
   "source": [
    "import torch\n",
    "import torch.nn.functional as F\n",
    "import matplotlib.pyplot as plt\n",
    "%matplotlib inline"
   ]
  },
  {
   "cell_type": "code",
   "execution_count": 2,
   "id": "41ffdf23-8322-47ba-90cc-019da124d8fb",
   "metadata": {},
   "outputs": [
    {
     "data": {
      "text/plain": [
       "32033"
      ]
     },
     "execution_count": 2,
     "metadata": {},
     "output_type": "execute_result"
    }
   ],
   "source": [
    "words = open('names.txt', 'r').read().splitlines()\n",
    "len(words)"
   ]
  },
  {
   "cell_type": "code",
   "execution_count": 3,
   "id": "d7a3141f-da1d-4a53-aa87-ba7d41631ab0",
   "metadata": {},
   "outputs": [],
   "source": [
    "chars = sorted(list(set(''.join(words))))\n",
    "stoi = {s:i+1 for i, s in enumerate(chars)}\n",
    "stoi['.'] = 0\n",
    "itos = {i:s for s, i in stoi.items()}"
   ]
  },
  {
   "cell_type": "code",
   "execution_count": 4,
   "id": "d8fa76c7-8c66-4841-a613-4a01c7d7975d",
   "metadata": {},
   "outputs": [],
   "source": [
    "block_size = 3 # context length: how many characters do we take to predict the next one?\n",
    "\n",
    "X, Y = [], []\n",
    "for w in words:\n",
    "    context = [0]*block_size\n",
    "    for ch in w +'.':\n",
    "        ix = stoi[ch]\n",
    "        X.append(context)\n",
    "        Y.append(ix)\n",
    "        context = context[1:] + [ix]\n",
    "X = torch.tensor(X)\n",
    "Y = torch.tensor(Y)\n"
   ]
  },
  {
   "cell_type": "code",
   "execution_count": 9,
   "id": "cfe7ed61-1962-4969-bbc6-23e09e8d4b30",
   "metadata": {},
   "outputs": [],
   "source": [
    "# Creating 2 dimensional embedding matrix for all 27 characters\n",
    "\n",
    "C = torch.randn((27, 10), requires_grad=True)\n",
    "\n",
    "# Embedding whole input \n",
    "\n",
    "emd = C[X]"
   ]
  },
  {
   "cell_type": "code",
   "execution_count": 100,
   "id": "f09370c4-e101-487c-a593-97f88fc0c17b",
   "metadata": {},
   "outputs": [
    {
     "data": {
      "text/plain": [
       "torch.Size([228146, 3, 10])"
      ]
     },
     "execution_count": 100,
     "metadata": {},
     "output_type": "execute_result"
    }
   ],
   "source": [
    "emd.shape"
   ]
  },
  {
   "cell_type": "code",
   "execution_count": 36,
   "id": "2015e04a-7622-47b2-87dc-404e47ab31f9",
   "metadata": {},
   "outputs": [
    {
     "data": {
      "text/plain": [
       "torch.Size([228146, 30])"
      ]
     },
     "execution_count": 36,
     "metadata": {},
     "output_type": "execute_result"
    }
   ],
   "source": [
    "xs = torch.reshape(emd, (228146, 30))\n",
    "xs.shape"
   ]
  },
  {
   "cell_type": "code",
   "execution_count": 38,
   "id": "15c21d61-c651-475e-b157-f43d55cdb3b7",
   "metadata": {},
   "outputs": [],
   "source": [
    "W1 = torch.randn((30, 100), requires_grad=True)\n",
    "b1 = torch.randn(100, requires_grad=True)"
   ]
  },
  {
   "cell_type": "code",
   "execution_count": 39,
   "id": "8461b51b-a55b-4b86-8448-34f80f4c3d8f",
   "metadata": {},
   "outputs": [],
   "source": [
    "h = torch.tanh((xs @ W1 + b1))  # Broadcasting happening here while summation with b1"
   ]
  },
  {
   "cell_type": "code",
   "execution_count": 89,
   "id": "1239d599-48ee-4cb0-b174-ad018e2c5aff",
   "metadata": {},
   "outputs": [
    {
     "data": {
      "text/plain": [
       "torch.Size([228146, 100])"
      ]
     },
     "execution_count": 89,
     "metadata": {},
     "output_type": "execute_result"
    }
   ],
   "source": [
    "h.shape"
   ]
  },
  {
   "cell_type": "code",
   "execution_count": 40,
   "id": "b3ea8954-5395-4f04-89f9-96b840aa54cc",
   "metadata": {},
   "outputs": [],
   "source": [
    "# Creating final Layer (Softmax Layer)\n",
    "\n",
    "W2 = torch.randn((100, 27), requires_grad=True)\n",
    "b2 = torch.randn(27, requires_grad=True)"
   ]
  },
  {
   "cell_type": "code",
   "execution_count": 41,
   "id": "633333c0-0a5f-4089-bc96-8d8c6101c76b",
   "metadata": {},
   "outputs": [
    {
     "data": {
      "text/plain": [
       "torch.Size([228146, 27])"
      ]
     },
     "execution_count": 41,
     "metadata": {},
     "output_type": "execute_result"
    }
   ],
   "source": [
    "logits = h @ W2 + b2\n",
    "logits.shape"
   ]
  },
  {
   "cell_type": "code",
   "execution_count": 92,
   "id": "863bf26b-bcf7-4481-b1a7-af5b5fe722de",
   "metadata": {},
   "outputs": [
    {
     "data": {
      "text/plain": [
       "torch.Size([228146, 27])"
      ]
     },
     "execution_count": 92,
     "metadata": {},
     "output_type": "execute_result"
    }
   ],
   "source": [
    "counts = logits.exp()\n",
    "probs = counts/counts.sum(dim=1, keepdims=True)\n",
    "probs.shape"
   ]
  },
  {
   "cell_type": "code",
   "execution_count": 93,
   "id": "127f0345-521a-4ce3-86be-d9dea872dc18",
   "metadata": {},
   "outputs": [
    {
     "data": {
      "text/plain": [
       "(tensor(0.6659, grad_fn=<UnbindBackward0>),\n",
       " tensor([4.5063e-06, 3.6063e-02, 1.7730e-06, 3.3879e-10, 9.0791e-12, 2.1200e-06,\n",
       "         1.8009e-09, 7.5425e-04, 2.1304e-06, 1.4453e-09, 1.0247e-01, 2.6669e-08,\n",
       "         2.9078e-07, 4.2258e-04, 8.1285e-10, 6.6585e-01, 1.0195e-10, 1.1062e-03,\n",
       "         6.9124e-09, 9.2631e-02, 2.8148e-06, 5.6229e-07, 6.9998e-07, 8.3098e-04,\n",
       "         1.1662e-14, 1.1637e-13, 9.9861e-02], grad_fn=<SelectBackward0>))"
      ]
     },
     "execution_count": 93,
     "metadata": {},
     "output_type": "execute_result"
    }
   ],
   "source": [
    "max(probs[0]), probs[0]"
   ]
  },
  {
   "cell_type": "code",
   "execution_count": 67,
   "id": "a04180c4-5475-4065-89b0-4fb59a20cd02",
   "metadata": {},
   "outputs": [
    {
     "data": {
      "text/plain": [
       "(torch.Size([228146]), tensor([ 5, 13, 13,  ..., 26, 24,  0]))"
      ]
     },
     "execution_count": 67,
     "metadata": {},
     "output_type": "execute_result"
    }
   ],
   "source": [
    "Y.shape, Y"
   ]
  },
  {
   "cell_type": "code",
   "execution_count": 68,
   "id": "fc9924dc-4544-41b7-8e1c-d6473ddcc675",
   "metadata": {},
   "outputs": [
    {
     "data": {
      "text/plain": [
       "tensor([3.6241e-03, 2.3958e-10, 1.1550e-05,  ..., 1.0832e-11, 7.3637e-11,\n",
       "        2.3183e-07], grad_fn=<IndexBackward0>)"
      ]
     },
     "execution_count": 68,
     "metadata": {},
     "output_type": "execute_result"
    }
   ],
   "source": [
    "# Probability Assigned to the all the actual Y values by the untrained model \n",
    "\n",
    "probs[torch.arange(X.shape[0]), Y]"
   ]
  },
  {
   "cell_type": "code",
   "execution_count": 69,
   "id": "5391bb91-9403-4472-8d89-d1f49e288f96",
   "metadata": {},
   "outputs": [
    {
     "data": {
      "text/plain": [
       "tensor(107667.7578, grad_fn=<DivBackward0>)"
      ]
     },
     "execution_count": 69,
     "metadata": {},
     "output_type": "execute_result"
    }
   ],
   "source": [
    "loss = probs[torch.arange(X.shape[0]), Y].log().sum()\n",
    "loss = -1* loss/32\n",
    "loss"
   ]
  },
  {
   "cell_type": "code",
   "execution_count": 70,
   "id": "fda48cbb-9cdf-4007-b3e1-8b58e917ae7f",
   "metadata": {},
   "outputs": [
    {
     "data": {
      "text/plain": [
       "tensor(15.1016, grad_fn=<NllLossBackward0>)"
      ]
     },
     "execution_count": 70,
     "metadata": {},
     "output_type": "execute_result"
    }
   ],
   "source": [
    "F.cross_entropy(logits, Y) # Using cross_entropy is much more efficient than my own implementation of loss estimation (backward, forward efficiently)"
   ]
  },
  {
   "cell_type": "code",
   "execution_count": 44,
   "id": "2ac91668-718f-4c03-a7d3-d762db6eadf2",
   "metadata": {},
   "outputs": [
    {
     "name": "stdout",
     "output_type": "stream",
     "text": [
      "tensor(2.9041, grad_fn=<NllLossBackward0>)\n"
     ]
    }
   ],
   "source": [
    "# Putting all together\n",
    "lossi = []\n",
    "stepsi = []\n",
    "for i in range(30000):\n",
    "    # Forward Pass\n",
    "    ix = torch.randint(0, X.shape[0], (32,)) # Randomly taking 32 samples from 22000 inputs, 32 x 3 x 2\n",
    "    xs = torch.reshape(C[X[ix]], (32, 30))\n",
    "    h = torch.tanh((xs @ W1 + b1))\n",
    "    logits = h @ W2 + b2\n",
    "    counts = logits.exp()\n",
    "    probs = counts/counts.sum(dim=1, keepdims=True)\n",
    "    \n",
    "    # Loss\n",
    "    loss = F.cross_entropy(logits, Y[ix])\n",
    "    lossi.append(loss.item())\n",
    "    stepsi.append(i)\n",
    "    \n",
    "    # Backward pass\n",
    "    W1.grad = None\n",
    "    b1.grad = None\n",
    "    W2.grad = None\n",
    "    b2.grad = None\n",
    "    loss.backward()\n",
    "    \n",
    "    # Update Weights\n",
    "    lr = 0.01\n",
    "    C.data += -lr * C.grad\n",
    "    W1.data += -lr * W1.grad\n",
    "    b1.data += -lr * b1.grad\n",
    "    W2.data += -lr * W2.grad\n",
    "    b2.data += -lr * b2.grad\n",
    "print(loss)"
   ]
  },
  {
   "cell_type": "code",
   "execution_count": 45,
   "id": "85cf6fc4-2d3f-4e23-a5e4-be0c92af4c52",
   "metadata": {},
   "outputs": [
    {
     "data": {
      "text/plain": [
       "[<matplotlib.lines.Line2D at 0x208558e2150>]"
      ]
     },
     "execution_count": 45,
     "metadata": {},
     "output_type": "execute_result"
    },
    {
     "data": {
      "image/png": "[encoded data removed]",
      "text/plain": [
       "<Figure size 640x480 with 1 Axes>"
      ]
     },
     "metadata": {},
     "output_type": "display_data"
    }
   ],
   "source": [
    "plt.plot(stepsi, lossi)"
   ]
  },
  {
   "cell_type": "markdown",
   "id": "7af084e3-d3ec-4464-bef2-0cf1f5fc54e6",
   "metadata": {},
   "source": [
    "Sampling from the Model"
   ]
  },
  {
   "cell_type": "code",
   "execution_count": 90,
   "id": "99dac26c-7e43-47d0-ab74-9ec28c376d0f",
   "metadata": {},
   "outputs": [
    {
     "data": {
      "text/plain": [
       "torch.Size([1, 3])"
      ]
     },
     "execution_count": 90,
     "metadata": {},
     "output_type": "execute_result"
    }
   ],
   "source": [
    "xs = torch.reshape(X[3], (1, 3))\n",
    "xs.shape"
   ]
  },
  {
   "cell_type": "code",
   "execution_count": 141,
   "id": "8aa8ae81-bfda-441e-a811-26f51cd9ada8",
   "metadata": {},
   "outputs": [
    {
     "name": "stdout",
     "output_type": "stream",
     "text": [
      "filyhhedi.\n",
      "icatri.\n",
      "boresdenlya.\n",
      "coee.\n",
      "frana.\n",
      "roh.\n",
      "azi.\n",
      "neey.\n",
      "tena.\n",
      "mol.\n"
     ]
    }
   ],
   "source": [
    "g = torch.Generator().manual_seed(123)\n",
    "\n",
    "for _ in range(10):\n",
    "    \n",
    "    out = []\n",
    "    context = [0] * 3 # initialize with all ...\n",
    "    while True:\n",
    "      emb = C[torch.tensor([context])] # (1,block_size,d)\n",
    "      h = torch.tanh(emb.view(1, -1) @ W1 + b1)\n",
    "      logits = h @ W2 + b2\n",
    "      probs = F.softmax(logits, dim=1)\n",
    "      ix = torch.multinomial(probs, num_samples=1, generator=g).item()\n",
    "      context = context[1:] + [ix]\n",
    "      out.append(ix)\n",
    "      if ix == 0:\n",
    "        break\n",
    "    \n",
    "    print(''.join(itos[i] for i in out))"
   ]
  }
 ],
 "metadata": {
  "kernelspec": {
   "display_name": "Python 3 (ipykernel)",
   "language": "python",
   "name": "python3"
  },
  "language_info": {
   "codemirror_mode": {
    "name": "ipython",
    "version": 3
   },
   "file_extension": ".py",
   "mimetype": "text/x-python",
   "name": "python",
   "nbconvert_exporter": "python",
   "pygments_lexer": "ipython3",
   "version": "3.12.3"
  }
 },
 "nbformat": 4,
 "nbformat_minor": 5
}
