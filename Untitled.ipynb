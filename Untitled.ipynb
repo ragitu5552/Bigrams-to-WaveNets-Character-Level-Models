{
 "cells": [
  {
   "cell_type": "code",
   "execution_count": 21,
   "id": "9678e505-f484-43c6-8db8-4c9d0059b00f",
   "metadata": {},
   "outputs": [
    {
     "data": {
      "text/plain": [
       "['emma',\n",
       " 'olivia',\n",
       " 'ava',\n",
       " 'isabella',\n",
       " 'sophia',\n",
       " 'charlotte',\n",
       " 'mia',\n",
       " 'amelia',\n",
       " 'harper',\n",
       " 'evelyn']"
      ]
     },
     "execution_count": 21,
     "metadata": {},
     "output_type": "execute_result"
    }
   ],
   "source": [
    "words = open('names.txt', 'r').read().splitlines()\n",
    "words[:10]"
   ]
  },
  {
   "cell_type": "code",
   "execution_count": 22,
   "id": "d294ccad-966b-4c15-9680-82fedc542abd",
   "metadata": {},
   "outputs": [
    {
     "data": {
      "text/plain": [
       "2"
      ]
     },
     "execution_count": 22,
     "metadata": {},
     "output_type": "execute_result"
    }
   ],
   "source": [
    "min(len(w) for w in words)"
   ]
  },
  {
   "cell_type": "code",
   "execution_count": 175,
   "id": "53e64184-0231-4e3f-bf5c-6b140ba5928b",
   "metadata": {},
   "outputs": [],
   "source": [
    "import torch\n",
    "N = torch.ones((27, 27), dtype=torch.int32)"
   ]
  },
  {
   "cell_type": "code",
   "execution_count": 176,
   "id": "2b7bd801-aefc-470e-895c-ec2184714d85",
   "metadata": {},
   "outputs": [],
   "source": [
    "chars = sorted(list(set(''.join(words))))"
   ]
  },
  {
   "cell_type": "code",
   "execution_count": 177,
   "id": "05e6383e-45f3-445b-9a5a-db4d3ad60608",
   "metadata": {},
   "outputs": [
    {
     "data": {
      "text/plain": [
       "{'a': 1,\n",
       " 'b': 2,\n",
       " 'c': 3,\n",
       " 'd': 4,\n",
       " 'e': 5,\n",
       " 'f': 6,\n",
       " 'g': 7,\n",
       " 'h': 8,\n",
       " 'i': 9,\n",
       " 'j': 10,\n",
       " 'k': 11,\n",
       " 'l': 12,\n",
       " 'm': 13,\n",
       " 'n': 14,\n",
       " 'o': 15,\n",
       " 'p': 16,\n",
       " 'q': 17,\n",
       " 'r': 18,\n",
       " 's': 19,\n",
       " 't': 20,\n",
       " 'u': 21,\n",
       " 'v': 22,\n",
       " 'w': 23,\n",
       " 'x': 24,\n",
       " 'y': 25,\n",
       " 'z': 26,\n",
       " '.': 0}"
      ]
     },
     "execution_count": 177,
     "metadata": {},
     "output_type": "execute_result"
    }
   ],
   "source": [
    "stoi = {s:i+1 for i, s in enumerate(chars)}\n",
    "stoi['.']=0\n",
    "stoi"
   ]
  },
  {
   "cell_type": "code",
   "execution_count": 178,
   "id": "f57aa755-f362-43e6-91eb-f16aad7faab5",
   "metadata": {},
   "outputs": [],
   "source": [
    "\n",
    "for w in words:\n",
    "    chs = ['.']+list(w)+['.']\n",
    "    for ch1, ch2 in zip(chs, chs[1:]):\n",
    "        ix1 = stoi[ch1]\n",
    "        ix2 = stoi[ch2]\n",
    "        N[ix1, ix2] += 1\n"
   ]
  },
  {
   "cell_type": "code",
   "execution_count": 179,
   "id": "9de5e516-d8f8-4e9c-b993-257abafb4e67",
   "metadata": {},
   "outputs": [
    {
     "data": {
      "text/plain": [
       "{1: 'a',\n",
       " 2: 'b',\n",
       " 3: 'c',\n",
       " 4: 'd',\n",
       " 5: 'e',\n",
       " 6: 'f',\n",
       " 7: 'g',\n",
       " 8: 'h',\n",
       " 9: 'i',\n",
       " 10: 'j',\n",
       " 11: 'k',\n",
       " 12: 'l',\n",
       " 13: 'm',\n",
       " 14: 'n',\n",
       " 15: 'o',\n",
       " 16: 'p',\n",
       " 17: 'q',\n",
       " 18: 'r',\n",
       " 19: 's',\n",
       " 20: 't',\n",
       " 21: 'u',\n",
       " 22: 'v',\n",
       " 23: 'w',\n",
       " 24: 'x',\n",
       " 25: 'y',\n",
       " 26: 'z',\n",
       " 0: '.'}"
      ]
     },
     "execution_count": 179,
     "metadata": {},
     "output_type": "execute_result"
    }
   ],
   "source": [
    "itos = {i:s for s, i in stoi.items()}\n",
    "itos"
   ]
  },
  {
   "cell_type": "code",
   "execution_count": 180,
   "id": "47cfb4b2-4875-42c0-b8f9-8231743bc1c1",
   "metadata": {},
   "outputs": [
    {
     "data": {
      "text/plain": [
       "tensor([0.7081, 0.3542, 0.1054])"
      ]
     },
     "execution_count": 180,
     "metadata": {},
     "output_type": "execute_result"
    }
   ],
   "source": [
    "g = torch.Generator().manual_seed(2147483647)\n",
    "p = torch.rand(3, generator=g)\n",
    "p"
   ]
  },
  {
   "cell_type": "code",
   "execution_count": 181,
   "id": "ec3b8860-77a0-41df-90d8-51614e17d61e",
   "metadata": {},
   "outputs": [
    {
     "data": {
      "text/plain": [
       "tensor([3.1192e-05, 1.3759e-01, 4.0767e-02, 4.8129e-02, 5.2745e-02, 4.7785e-02,\n",
       "        1.3038e-02, 2.0898e-02, 2.7293e-02, 1.8465e-02, 7.5577e-02, 9.2452e-02,\n",
       "        4.9064e-02, 7.9195e-02, 3.5777e-02, 1.2321e-02, 1.6095e-02, 2.9008e-03,\n",
       "        5.1154e-02, 6.4130e-02, 4.0830e-02, 2.4641e-03, 1.1759e-02, 9.6070e-03,\n",
       "        4.2109e-03, 1.6719e-02, 2.9008e-02])"
      ]
     },
     "execution_count": 181,
     "metadata": {},
     "output_type": "execute_result"
    }
   ],
   "source": [
    "p = N[0].float()\n",
    "p = p/p.sum()\n",
    "p"
   ]
  },
  {
   "cell_type": "code",
   "execution_count": 182,
   "id": "c59a9113-4cab-4442-a548-93165801ceac",
   "metadata": {},
   "outputs": [
    {
     "data": {
      "text/plain": [
       "tensor(1.)"
      ]
     },
     "execution_count": 182,
     "metadata": {},
     "output_type": "execute_result"
    }
   ],
   "source": [
    "p.sum()"
   ]
  },
  {
   "cell_type": "code",
   "execution_count": 183,
   "id": "c584b7c6-bc57-4c43-bbbd-5fff40c88ea8",
   "metadata": {},
   "outputs": [
    {
     "name": "stdout",
     "output_type": "stream",
     "text": [
      "d\n"
     ]
    }
   ],
   "source": [
    "g = torch.Generator().manual_seed(2147483640)\n",
    "ix = torch.multinomial(p, num_samples=1, replacement=True, generator=g).item()\n",
    "ix\n",
    "char = itos[ix]\n",
    "print(char)"
   ]
  },
  {
   "cell_type": "code",
   "execution_count": 184,
   "id": "3d1fe751-d82e-44ab-99d3-95a62185c881",
   "metadata": {},
   "outputs": [
    {
     "data": {
      "text/plain": [
       "tensor([[3.1192e-05, 1.3759e-01, 4.0767e-02, 4.8129e-02, 5.2745e-02, 4.7785e-02,\n",
       "         1.3038e-02, 2.0898e-02, 2.7293e-02, 1.8465e-02, 7.5577e-02, 9.2452e-02,\n",
       "         4.9064e-02, 7.9195e-02, 3.5777e-02, 1.2321e-02, 1.6095e-02, 2.9008e-03,\n",
       "         5.1154e-02, 6.4130e-02, 4.0830e-02, 2.4641e-03, 1.1759e-02, 9.6070e-03,\n",
       "         4.2109e-03, 1.6719e-02, 2.9008e-02],\n",
       "        [1.9583e-01, 1.6425e-02, 1.5983e-02, 1.3889e-02, 3.0756e-02, 2.0435e-02,\n",
       "         3.9809e-03, 4.9835e-03, 6.8796e-02, 4.8685e-02, 5.1899e-03, 1.6779e-02,\n",
       "         7.4575e-02, 4.8213e-02, 1.6039e-01, 1.8872e-03, 2.4475e-03, 1.7988e-03,\n",
       "         9.6279e-02, 3.2997e-02, 2.0288e-02, 1.1264e-02, 2.4623e-02, 4.7771e-03,\n",
       "         5.3963e-03, 6.0480e-02, 1.2857e-02],\n",
       "        [4.3039e-02, 1.2051e-01, 1.4596e-02, 7.4850e-04, 2.4701e-02, 2.4551e-01,\n",
       "         3.7425e-04, 3.7425e-04, 1.5719e-02, 8.1587e-02, 7.4850e-04, 3.7425e-04,\n",
       "         3.8922e-02, 3.7425e-04, 1.8713e-03, 3.9671e-02, 3.7425e-04, 3.7425e-04,\n",
       "         3.1549e-01, 3.3683e-03, 1.1228e-03, 1.7216e-02, 3.7425e-04, 3.7425e-04,\n",
       "         3.7425e-04, 3.1437e-02, 3.7425e-04],\n",
       "        [2.7536e-02, 2.2928e-01, 2.8098e-04, 1.2082e-02, 5.6196e-04, 1.5510e-01,\n",
       "         2.8098e-04, 8.4293e-04, 1.8685e-01, 7.6426e-02, 1.1239e-03, 8.9070e-02,\n",
       "         3.2874e-02, 2.8098e-04, 2.8098e-04, 1.0705e-01, 5.6196e-04, 3.3717e-03,\n",
       "         2.1635e-02, 1.6859e-03, 1.0115e-02, 1.0115e-02, 2.8098e-04, 2.8098e-04,\n",
       "         1.1239e-03, 2.9503e-02, 1.4049e-03],\n",
       "        [9.3609e-02, 2.3610e-01, 3.6212e-04, 7.2424e-04, 2.7159e-02, 2.3248e-01,\n",
       "         1.0864e-03, 4.7076e-03, 2.1546e-02, 1.2222e-01, 1.8106e-03, 7.2424e-04,\n",
       "         1.1045e-02, 5.6129e-03, 5.7940e-03, 6.8622e-02, 1.8106e-04, 3.6212e-04,\n",
       "         7.6951e-02, 5.4318e-03, 9.0531e-04, 1.6839e-02, 3.2591e-03, 4.3455e-03,\n",
       "         1.8106e-04, 5.7577e-02, 3.6212e-04],\n",
       "        [1.9482e-01, 3.3252e-02, 5.9658e-03, 7.5306e-03, 1.8826e-02, 6.2200e-02,\n",
       "         4.0587e-03, 6.1614e-03, 7.4817e-03, 4.0049e-02, 2.7384e-03, 8.7531e-03,\n",
       "         1.5888e-01, 3.7653e-02, 1.3086e-01, 1.3203e-02, 4.1076e-03, 7.3350e-04,\n",
       "         9.5795e-02, 4.2152e-02, 2.8411e-02, 3.4230e-03, 2.2689e-02, 2.4939e-03,\n",
       "         6.5037e-03, 5.2372e-02, 8.8998e-03],\n",
       "        [8.6910e-02, 2.6073e-01, 1.0730e-03, 1.0730e-03, 1.0730e-03, 1.3305e-01,\n",
       "         4.8283e-02, 2.1459e-03, 2.1459e-03, 1.7275e-01, 1.0730e-03, 3.2189e-03,\n",
       "         2.2532e-02, 1.0730e-03, 5.3648e-03, 6.5451e-02, 1.0730e-03, 1.0730e-03,\n",
       "         1.2339e-01, 7.5107e-03, 2.0386e-02, 1.1803e-02, 1.0730e-03, 5.3648e-03,\n",
       "         1.0730e-03, 1.6094e-02, 3.2189e-03],\n",
       "        [5.5783e-02, 1.6940e-01, 2.0471e-03, 5.1177e-04, 1.0235e-02, 1.7144e-01,\n",
       "         1.0235e-03, 1.3306e-02, 1.8475e-01, 9.7748e-02, 2.0471e-03, 5.1177e-04,\n",
       "         1.6888e-02, 3.5824e-03, 1.4330e-02, 4.2989e-02, 5.1177e-04, 5.1177e-04,\n",
       "         1.0338e-01, 1.5865e-02, 1.6377e-02, 4.4012e-02, 1.0235e-03, 1.3818e-02,\n",
       "         5.1177e-04, 1.6377e-02, 1.0235e-03],\n",
       "        [3.1532e-01, 2.9373e-01, 1.1775e-03, 3.9252e-04, 3.2710e-03, 8.8316e-02,\n",
       "         3.9252e-04, 3.9252e-04, 2.6168e-04, 9.5512e-02, 1.3084e-03, 3.9252e-03,\n",
       "         2.4336e-02, 1.5439e-02, 1.8187e-02, 3.7682e-02, 2.6168e-04, 2.6168e-04,\n",
       "         2.6822e-02, 4.1868e-03, 9.4204e-03, 2.1850e-02, 5.2335e-03, 1.4392e-03,\n",
       "         1.3084e-04, 2.7999e-02, 2.7476e-03],\n",
       "        [1.4046e-01, 1.3797e-01, 6.2613e-03, 2.8768e-02, 2.4876e-02, 9.3299e-02,\n",
       "         5.7536e-03, 2.4199e-02, 5.4152e-03, 4.6819e-03, 4.3434e-03, 2.5158e-02,\n",
       "         7.5925e-02, 2.4143e-02, 1.1998e-01, 3.3224e-02, 3.0460e-03, 2.9896e-03,\n",
       "         4.7947e-02, 7.4289e-02, 3.0573e-02, 6.2049e-03, 1.5230e-02, 5.0767e-04,\n",
       "         5.0767e-03, 4.3998e-02, 1.5681e-02],\n",
       "        [2.4599e-02, 5.0359e-01, 6.8329e-04, 1.7082e-03, 1.7082e-03, 1.5067e-01,\n",
       "         3.4165e-04, 3.4165e-04, 1.5716e-02, 4.0998e-02, 1.0249e-03, 1.0249e-03,\n",
       "         3.4165e-03, 2.0499e-03, 1.0249e-03, 1.6399e-01, 6.8329e-04, 3.4165e-04,\n",
       "         4.0998e-03, 2.7332e-03, 1.0249e-03, 6.9354e-02, 2.0499e-03, 2.3915e-03,\n",
       "         3.4165e-04, 3.7581e-03, 3.4165e-04],\n",
       "        [7.1837e-02, 3.4182e-01, 5.9207e-04, 5.9207e-04, 5.9207e-04, 1.7683e-01,\n",
       "         3.9471e-04, 1.9736e-04, 6.0785e-02, 1.0065e-01, 5.9207e-04, 4.1445e-03,\n",
       "         2.7630e-02, 1.9736e-03, 5.3286e-03, 6.8088e-02, 1.9736e-04, 1.9736e-04,\n",
       "         2.1709e-02, 1.8946e-02, 3.5524e-03, 1.0065e-02, 5.9207e-04, 6.9074e-03,\n",
       "         1.9736e-04, 7.4995e-02, 5.9207e-04],\n",
       "        [9.4029e-02, 1.8763e-01, 3.7898e-03, 1.8591e-03, 9.9392e-03, 2.0894e-01,\n",
       "         1.6446e-03, 5.0054e-04, 1.4301e-03, 1.7740e-01, 5.0054e-04, 1.7876e-03,\n",
       "         9.6246e-02, 4.3618e-03, 1.0726e-03, 4.9553e-02, 1.1441e-03, 2.8602e-04,\n",
       "         1.3586e-03, 6.7930e-03, 5.5774e-03, 2.3239e-02, 5.2199e-03, 1.2156e-03,\n",
       "         7.1505e-05, 1.1362e-01, 7.8656e-04],\n",
       "        [7.7523e-02, 3.8851e-01, 1.6944e-02, 7.7973e-03, 3.7487e-03, 1.2281e-01,\n",
       "         2.9990e-04, 1.4995e-04, 8.9969e-04, 1.8848e-01, 1.1996e-03, 2.9990e-04,\n",
       "         8.9969e-04, 2.5341e-02, 3.1489e-03, 6.7926e-02, 5.8480e-03, 1.4995e-04,\n",
       "         1.4695e-02, 5.3981e-03, 7.4974e-04, 2.0993e-02, 5.9979e-04, 4.4984e-04,\n",
       "         1.4995e-04, 4.3185e-02, 1.7994e-03],\n",
       "        [3.6853e-01, 1.6225e-01, 4.9036e-04, 1.1660e-02, 3.8411e-02, 7.4098e-02,\n",
       "         6.5381e-04, 1.4929e-02, 1.4711e-03, 9.4039e-02, 2.4518e-03, 3.2146e-03,\n",
       "         1.0679e-02, 1.0897e-03, 1.0390e-01, 2.7079e-02, 3.2690e-04, 1.6345e-04,\n",
       "         2.4518e-03, 1.5201e-02, 2.4191e-02, 5.2850e-03, 3.0511e-03, 6.5381e-04,\n",
       "         3.8139e-04, 2.5390e-02, 7.9547e-03],\n",
       "        [1.0752e-01, 1.8842e-02, 1.7711e-02, 1.4445e-02, 2.3992e-02, 1.6706e-02,\n",
       "         4.3964e-03, 5.6526e-03, 2.1605e-02, 8.7929e-03, 2.1354e-03, 8.6673e-03,\n",
       "         7.7880e-02, 3.2910e-02, 3.0298e-01, 1.4571e-02, 1.2059e-02, 5.0245e-04,\n",
       "         1.3315e-01, 6.3434e-02, 1.4948e-02, 3.4669e-02, 2.2233e-02, 1.4445e-02,\n",
       "         5.7782e-03, 1.3064e-02, 6.9087e-03],\n",
       "        [3.2289e-02, 1.9943e-01, 2.8490e-03, 1.8993e-03, 9.4967e-04, 1.8803e-01,\n",
       "         1.8993e-03, 9.4967e-04, 1.9468e-01, 5.8879e-02, 1.8993e-03, 1.8993e-03,\n",
       "         1.6144e-02, 1.8993e-03, 1.8993e-03, 5.6980e-02, 3.7987e-02, 9.4967e-04,\n",
       "         1.4435e-01, 1.6144e-02, 1.7094e-02, 4.7483e-03, 9.4967e-04, 9.4967e-04,\n",
       "         9.4967e-04, 1.2346e-02, 9.4967e-04],\n",
       "        [9.6990e-02, 4.6823e-02, 3.3445e-03, 3.3445e-03, 3.3445e-03, 6.6890e-03,\n",
       "         3.3445e-03, 3.3445e-03, 3.3445e-03, 4.6823e-02, 3.3445e-03, 3.3445e-03,\n",
       "         6.6890e-03, 1.0033e-02, 3.3445e-03, 1.0033e-02, 3.3445e-03, 3.3445e-03,\n",
       "         6.6890e-03, 1.0033e-02, 3.3445e-03, 6.9231e-01, 3.3445e-03, 1.3378e-02,\n",
       "         3.3445e-03, 3.3445e-03, 3.3445e-03],\n",
       "        [1.0827e-01, 1.8520e-01, 3.3001e-03, 7.8573e-03, 1.4772e-02, 1.3342e-01,\n",
       "         7.8573e-04, 6.0501e-03, 9.5859e-03, 2.3839e-01, 2.0429e-03, 7.1502e-03,\n",
       "         3.2529e-02, 1.2807e-02, 1.1079e-02, 6.8359e-02, 1.1786e-03, 1.3357e-03,\n",
       "         3.3472e-02, 1.5007e-02, 1.6422e-02, 1.9879e-02, 6.3644e-03, 1.7286e-03,\n",
       "         3.1429e-04, 6.0816e-02, 1.8858e-03],\n",
       "        [1.4386e-01, 1.4779e-01, 2.7050e-03, 7.5003e-03, 1.2296e-03, 1.0882e-01,\n",
       "         3.6887e-04, 3.6887e-04, 1.5812e-01, 8.4225e-02, 3.6887e-04, 1.0205e-02,\n",
       "         3.4428e-02, 1.1189e-02, 3.0739e-03, 6.5413e-02, 6.3937e-03, 2.4591e-04,\n",
       "         6.8855e-03, 5.6806e-02, 9.4184e-02, 2.2870e-02, 1.8443e-03, 3.0739e-03,\n",
       "         1.2296e-04, 2.6558e-02, 1.3525e-03],\n",
       "        [8.6475e-02, 1.8367e-01, 3.5733e-04, 3.2160e-03, 1.7867e-04, 1.2810e-01,\n",
       "         5.3600e-04, 5.3600e-04, 1.1578e-01, 9.5230e-02, 7.1467e-04, 1.7867e-04,\n",
       "         2.4120e-02, 8.9334e-04, 4.1093e-03, 1.1935e-01, 1.7867e-04, 1.7867e-04,\n",
       "         6.3070e-02, 6.4320e-03, 6.7000e-02, 1.4115e-02, 2.8587e-03, 2.1440e-03,\n",
       "         5.3600e-04, 6.1104e-02, 1.8939e-02],\n",
       "        [4.9336e-02, 5.1866e-02, 3.2891e-02, 3.2891e-02, 4.3327e-02, 5.3763e-02,\n",
       "         6.3251e-03, 1.5180e-02, 1.8659e-02, 3.8583e-02, 4.7438e-03, 2.9728e-02,\n",
       "         9.5509e-02, 4.9020e-02, 8.7287e-02, 3.4788e-03, 5.3763e-03, 3.4788e-03,\n",
       "         1.3125e-01, 1.5022e-01, 2.6249e-02, 1.2650e-03, 1.2018e-02, 2.7514e-02,\n",
       "         1.1069e-02, 4.4276e-03, 1.4548e-02],\n",
       "        [3.4231e-02, 2.4731e-01, 7.6923e-04, 3.8462e-04, 7.6923e-04, 2.1885e-01,\n",
       "         3.8462e-04, 3.8462e-04, 7.6923e-04, 3.5077e-01, 3.8462e-04, 1.5385e-03,\n",
       "         5.7692e-03, 3.8462e-04, 3.4615e-03, 5.9231e-02, 3.8462e-04, 3.8462e-04,\n",
       "         1.8846e-02, 3.8462e-04, 3.8462e-04, 3.0769e-03, 3.0769e-03, 3.8462e-04,\n",
       "         3.8462e-04, 4.6923e-02, 3.8462e-04],\n",
       "        [5.4393e-02, 2.9393e-01, 2.0921e-03, 1.0460e-03, 9.4142e-03, 1.5690e-01,\n",
       "         3.1381e-03, 2.0921e-03, 2.5105e-02, 1.5586e-01, 1.0460e-03, 7.3222e-03,\n",
       "         1.4644e-02, 3.1381e-03, 6.1715e-02, 3.8703e-02, 1.0460e-03, 1.0460e-03,\n",
       "         2.4059e-02, 2.1967e-02, 9.4142e-03, 2.7197e-02, 1.0460e-03, 3.1381e-03,\n",
       "         1.0460e-03, 7.7406e-02, 2.0921e-03],\n",
       "        [2.2790e-01, 1.4365e-01, 2.7624e-03, 6.9061e-03, 8.2873e-03, 5.1105e-02,\n",
       "         5.5249e-03, 1.3812e-03, 2.7624e-03, 1.4227e-01, 1.3812e-03, 1.3812e-03,\n",
       "         5.5249e-02, 2.7624e-03, 2.7624e-03, 5.8011e-02, 1.3812e-03, 1.3812e-03,\n",
       "         1.3812e-03, 4.4199e-02, 9.8066e-02, 8.2873e-03, 1.3812e-03, 5.5249e-03,\n",
       "         5.3867e-02, 4.2818e-02, 2.7624e-02],\n",
       "        [2.0484e-01, 2.1871e-01, 2.8563e-03, 1.1833e-02, 2.7849e-02, 3.0807e-02,\n",
       "         1.3261e-03, 3.1623e-03, 2.3462e-03, 1.9688e-02, 2.4482e-03, 8.8748e-03,\n",
       "         1.1272e-01, 1.5199e-02, 1.8637e-01, 2.7747e-02, 1.6322e-03, 7.1407e-04,\n",
       "         2.9787e-02, 4.1008e-02, 1.0711e-02, 1.4485e-02, 1.0915e-02, 5.1005e-04,\n",
       "         2.9583e-03, 2.4482e-03, 8.0588e-03],\n",
       "        [6.6392e-02, 3.5505e-01, 2.0619e-03, 1.2371e-03, 1.2371e-03, 1.5423e-01,\n",
       "         4.1237e-04, 8.2474e-04, 1.8144e-02, 1.5052e-01, 1.2371e-03, 1.2371e-03,\n",
       "         5.1134e-02, 1.4845e-02, 2.0619e-03, 4.5773e-02, 1.2371e-03, 4.1237e-04,\n",
       "         1.3608e-02, 2.0619e-03, 2.0619e-03, 3.0515e-02, 1.2371e-03, 1.6495e-03,\n",
       "         8.2474e-04, 6.1031e-02, 1.8969e-02]])"
      ]
     },
     "execution_count": 184,
     "metadata": {},
     "output_type": "execute_result"
    }
   ],
   "source": [
    "# Broadcasting for Efficiency\n",
    "P = N.float()\n",
    "P = P/P.sum(dim=1, keepdim=True)\n",
    "P"
   ]
  },
  {
   "cell_type": "code",
   "execution_count": 333,
   "id": "e620e234-4d38-4a06-9f3b-b4568fb37060",
   "metadata": {},
   "outputs": [
    {
     "data": {
      "text/plain": [
       "['jahan.', 'jaxs.', 'jah.', 'jariysta.', 'jahanarenemmin.']"
      ]
     },
     "execution_count": 333,
     "metadata": {},
     "output_type": "execute_result"
    }
   ],
   "source": [
    "g = torch.Generator().manual_seed(2147483640)\n",
    "names = []\n",
    "\n",
    "for i in range(5):\n",
    "    ix = 10\n",
    "    name = itos[ix]\n",
    "    while True:\n",
    "        p = P[ix]\n",
    "        ix = torch.multinomial(p, num_samples=1, replacement=True, generator=g).item()\n",
    "        name += itos[ix]\n",
    "        if ix == 0:\n",
    "            break;\n",
    "    names.append(name)\n",
    "\n",
    "names"
   ]
  },
  {
   "cell_type": "code",
   "execution_count": 334,
   "id": "516af401-0200-4721-8117-336325292862",
   "metadata": {},
   "outputs": [
    {
     "data": {
      "text/plain": [
       "tensor(2.4544)"
      ]
     },
     "execution_count": 334,
     "metadata": {},
     "output_type": "execute_result"
    }
   ],
   "source": [
    "\n",
    "log_likelihood = 0.0\n",
    "n = 0\n",
    "for word in words:\n",
    "    word = ['.']+list(word)+['.']\n",
    "    for ch1, ch2 in zip(word, word[1:]):\n",
    "        ix1 = stoi[ch1]\n",
    "        ix2 = stoi[ch2]\n",
    "        prob = P[ix1, ix2]\n",
    "        log_likelihood += torch.log(prob)\n",
    "        n += 1\n",
    "nll = -1*log_likelihood\n",
    "nll = nll/n\n",
    "nll"
   ]
  },
  {
   "cell_type": "markdown",
   "id": "0cc5d297-0a3c-4bdd-8366-b1b35f563a8e",
   "metadata": {},
   "source": [
    "Now the same process will be done by Neural Net"
   ]
  },
  {
   "cell_type": "code",
   "execution_count": 298,
   "id": "d65e4675-6800-44d3-affc-f2a1eef6ec30",
   "metadata": {},
   "outputs": [],
   "source": [
    "# Creating the dataset for the Neural Network\n",
    "\n",
    "xs, ys = [], []\n",
    "for word in words:\n",
    "    word = ['.']+list(word)+['.']\n",
    "    for ch1, ch2 in zip(word, word[1:]):\n",
    "        ix = stoi[ch1]\n",
    "        iy = stoi[ch2]\n",
    "        xs.append(ix)\n",
    "        ys.append(iy)\n",
    "xs = torch.tensor(xs)\n",
    "ys = torch.tensor(ys)"
   ]
  },
  {
   "cell_type": "markdown",
   "id": "75a48778-b3a7-464a-84a8-ab7db10a53f4",
   "metadata": {},
   "source": [
    "#One hot encoding is required before feeding into the Neural Net"
   ]
  },
  {
   "cell_type": "code",
   "execution_count": 213,
   "id": "46ec7032-cd2e-4da7-a66b-c3c627378cb0",
   "metadata": {},
   "outputs": [],
   "source": [
    "import torch.nn.functional as F"
   ]
  },
  {
   "cell_type": "code",
   "execution_count": 300,
   "id": "bdac6f11-d3e4-4cce-8cfa-545bd12c61a4",
   "metadata": {},
   "outputs": [
    {
     "data": {
      "text/plain": [
       "torch.Size([228146, 27])"
      ]
     },
     "execution_count": 300,
     "metadata": {},
     "output_type": "execute_result"
    }
   ],
   "source": [
    "xs_encoded = F.one_hot(xs, num_classes=27).float()\n",
    "xs_encoded.shape"
   ]
  },
  {
   "cell_type": "code",
   "execution_count": 303,
   "id": "33559b94-d2ca-4674-a137-04fab3e4005d",
   "metadata": {},
   "outputs": [
    {
     "data": {
      "text/plain": [
       "torch.Size([228146, 27])"
      ]
     },
     "execution_count": 303,
     "metadata": {},
     "output_type": "execute_result"
    }
   ],
   "source": [
    "import numpy as np\n",
    "g = torch.Generator().manual_seed(32)\n",
    "\n",
    "# Forward Pass\n",
    "W = torch.randn((27, 27), generator=g, requires_grad=True)\n",
    "xs_encoded @ W\n",
    "r = (xs_encoded @ W).exp()\n",
    "probs = r/r.sum(dim=1, keepdims=True)\n"
   ]
  },
  {
   "cell_type": "code",
   "execution_count": 276,
   "id": "9fed9964-83fc-4eb2-b0a4-681931988236",
   "metadata": {},
   "outputs": [
    {
     "data": {
      "text/plain": [
       "tensor(3.6499, grad_fn=<NegBackward0>)"
      ]
     },
     "execution_count": 276,
     "metadata": {},
     "output_type": "execute_result"
    }
   ],
   "source": [
    "# Loss\n",
    "loss = -probs[torch.arange(5), ys].log().mean()\n",
    "loss"
   ]
  },
  {
   "cell_type": "code",
   "execution_count": 289,
   "id": "37797619-95de-4521-80a0-cf334281f3bf",
   "metadata": {},
   "outputs": [],
   "source": [
    "# Backward Pass\n",
    "W.grad = None\n",
    "loss.backward()\n"
   ]
  },
  {
   "cell_type": "code",
   "execution_count": 290,
   "id": "215e65cd-16b2-478d-b5bc-b625d9634863",
   "metadata": {},
   "outputs": [],
   "source": [
    "# Update\n",
    "W.data += -0.1 * W.grad"
   ]
  },
  {
   "cell_type": "code",
   "execution_count": 291,
   "id": "9cc0152a-0c5e-471a-b88f-bcade5725e0a",
   "metadata": {},
   "outputs": [
    {
     "data": {
      "text/plain": [
       "tensor(3.5703, grad_fn=<NegBackward0>)"
      ]
     },
     "execution_count": 291,
     "metadata": {},
     "output_type": "execute_result"
    }
   ],
   "source": [
    "# Checking if loss is reduced\n",
    "\n",
    "# Forward Pass \n",
    "xs_encoded @ W\n",
    "r = (xs_encoded @ W).exp()\n",
    "probs = r/r.sum(dim=1, keepdims=True)\n",
    "\n",
    "# Loss\n",
    "loss = -probs[torch.arange(5), ys].log().mean()\n",
    "loss"
   ]
  },
  {
   "cell_type": "code",
   "execution_count": 304,
   "id": "456f0269-1b61-4ad1-bbbe-eda5aec80d69",
   "metadata": {},
   "outputs": [
    {
     "data": {
      "text/plain": [
       "torch.Size([228146])"
      ]
     },
     "execution_count": 304,
     "metadata": {},
     "output_type": "execute_result"
    }
   ],
   "source": [
    "ys.shape"
   ]
  },
  {
   "cell_type": "code",
   "execution_count": 335,
   "id": "42524e6b-9845-4bf7-86e5-a93239d1720c",
   "metadata": {},
   "outputs": [
    {
     "name": "stdout",
     "output_type": "stream",
     "text": [
      "Loss after 0th iteration is, 3.750535488128662\n",
      "Loss after 1th iteration is, 3.1274166107177734\n",
      "Loss after 2th iteration is, 2.964362382888794\n",
      "Loss after 3th iteration is, 2.7907614707946777\n",
      "Loss after 4th iteration is, 2.7167773246765137\n",
      "Loss after 5th iteration is, 2.6727962493896484\n",
      "Loss after 6th iteration is, 2.6580452919006348\n",
      "Loss after 7th iteration is, 2.6278903484344482\n",
      "Loss after 8th iteration is, 2.629685163497925\n",
      "Loss after 9th iteration is, 2.6292243003845215\n",
      "Loss after 10th iteration is, 2.60052752494812\n",
      "Loss after 11th iteration is, 2.5971646308898926\n",
      "Loss after 12th iteration is, 2.5866198539733887\n",
      "Loss after 13th iteration is, 2.6072535514831543\n",
      "Loss after 14th iteration is, 2.5684993267059326\n",
      "Loss after 15th iteration is, 2.5703651905059814\n",
      "Loss after 16th iteration is, 2.6075854301452637\n",
      "Loss after 17th iteration is, 2.6255831718444824\n",
      "Loss after 18th iteration is, 2.5490593910217285\n",
      "Loss after 19th iteration is, 2.532025098800659\n",
      "Loss after 20th iteration is, 2.5565884113311768\n",
      "Loss after 21th iteration is, 2.5424296855926514\n",
      "Loss after 22th iteration is, 2.6022815704345703\n",
      "Loss after 23th iteration is, 2.5191023349761963\n",
      "Loss after 24th iteration is, 2.5370514392852783\n",
      "Loss after 25th iteration is, 2.5481252670288086\n",
      "Loss after 26th iteration is, 2.606562852859497\n",
      "Loss after 27th iteration is, 2.534057855606079\n",
      "Loss after 28th iteration is, 2.525543689727783\n",
      "Loss after 29th iteration is, 2.521733283996582\n",
      "Loss after 30th iteration is, 2.556915760040283\n",
      "Loss after 31th iteration is, 2.564305067062378\n",
      "Loss after 32th iteration is, 2.6029717922210693\n",
      "Loss after 33th iteration is, 2.5036094188690186\n",
      "Loss after 34th iteration is, 2.517503023147583\n",
      "Loss after 35th iteration is, 2.506146192550659\n",
      "Loss after 36th iteration is, 2.5294034481048584\n",
      "Loss after 37th iteration is, 2.559487819671631\n",
      "Loss after 38th iteration is, 2.528517246246338\n",
      "Loss after 39th iteration is, 2.52809739112854\n",
      "Loss after 40th iteration is, 2.5709726810455322\n",
      "Loss after 41th iteration is, 2.5911827087402344\n",
      "Loss after 42th iteration is, 2.5167226791381836\n",
      "Loss after 43th iteration is, 2.5022976398468018\n",
      "Loss after 44th iteration is, 2.531616687774658\n",
      "Loss after 45th iteration is, 2.516191244125366\n",
      "Loss after 46th iteration is, 2.583951234817505\n",
      "Loss after 47th iteration is, 2.501553773880005\n",
      "Loss after 48th iteration is, 2.5162243843078613\n",
      "Loss after 49th iteration is, 2.5293362140655518\n",
      "Loss after 50th iteration is, 2.5683987140655518\n",
      "Loss after 51th iteration is, 2.5128207206726074\n",
      "Loss after 52th iteration is, 2.5336523056030273\n",
      "Loss after 53th iteration is, 2.543905735015869\n",
      "Loss after 54th iteration is, 2.603142261505127\n",
      "Loss after 55th iteration is, 2.5025579929351807\n",
      "Loss after 56th iteration is, 2.515155553817749\n",
      "Loss after 57th iteration is, 2.511749029159546\n",
      "Loss after 58th iteration is, 2.5296521186828613\n",
      "Loss after 59th iteration is, 2.547839641571045\n",
      "Loss after 60th iteration is, 2.5087203979492188\n",
      "Loss after 61th iteration is, 2.499551296234131\n",
      "Loss after 62th iteration is, 2.5233025550842285\n",
      "Loss after 63th iteration is, 2.558985948562622\n",
      "Loss after 64th iteration is, 2.5132195949554443\n",
      "Loss after 65th iteration is, 2.5014138221740723\n",
      "Loss after 66th iteration is, 2.5544071197509766\n",
      "Loss after 67th iteration is, 2.5767605304718018\n",
      "Loss after 68th iteration is, 2.511699676513672\n",
      "Loss after 69th iteration is, 2.493293523788452\n",
      "Loss after 70th iteration is, 2.51518177986145\n",
      "Loss after 71th iteration is, 2.4990036487579346\n",
      "Loss after 72th iteration is, 2.5252504348754883\n",
      "Loss after 73th iteration is, 2.5116262435913086\n",
      "Loss after 74th iteration is, 2.556260585784912\n",
      "Loss after 75th iteration is, 2.494725465774536\n",
      "Loss after 76th iteration is, 2.5190563201904297\n",
      "Loss after 77th iteration is, 2.5081841945648193\n",
      "Loss after 78th iteration is, 2.565107822418213\n",
      "Loss after 79th iteration is, 2.4882376194000244\n",
      "Loss after 80th iteration is, 2.5107667446136475\n",
      "Loss after 81th iteration is, 2.517411708831787\n",
      "Loss after 82th iteration is, 2.599820137023926\n",
      "Loss after 83th iteration is, 2.5246002674102783\n",
      "Loss after 84th iteration is, 2.50429368019104\n",
      "Loss after 85th iteration is, 2.5009512901306152\n",
      "Loss after 86th iteration is, 2.524806261062622\n",
      "Loss after 87th iteration is, 2.580345630645752\n",
      "Loss after 88th iteration is, 2.5329678058624268\n",
      "Loss after 89th iteration is, 2.4873926639556885\n",
      "Loss after 90th iteration is, 2.5076920986175537\n",
      "Loss after 91th iteration is, 2.5003628730773926\n",
      "Loss after 92th iteration is, 2.55385422706604\n",
      "Loss after 93th iteration is, 2.492546796798706\n",
      "Loss after 94th iteration is, 2.533777952194214\n",
      "Loss after 95th iteration is, 2.5326595306396484\n",
      "Loss after 96th iteration is, 2.5888335704803467\n",
      "Loss after 97th iteration is, 2.4960434436798096\n",
      "Loss after 98th iteration is, 2.5055201053619385\n",
      "Loss after 99th iteration is, 2.497349500656128\n"
     ]
    }
   ],
   "source": [
    "# Adding all together\n",
    "g = torch.Generator().manual_seed(32)\n",
    "\n",
    "# Weight Initialization\n",
    "W = torch.randn((27, 27), generator=g, requires_grad=True)\n",
    "ls = []\n",
    "for k in range(100):\n",
    "    # Forward Pass\n",
    "    xs_encoded @ W\n",
    "    r = (xs_encoded @ W).exp()\n",
    "    probs = r/r.sum(dim=1, keepdims=True)\n",
    "\n",
    "    # Loss\n",
    "    loss = -1*probs[torch.arange(228146), ys].log().mean() + 0.001 * (W**2).mean()  # Regularization loss with 0.001 regularization strength\n",
    "    ls.append(loss)\n",
    "    print(f'Loss after {k}th iteration is, {loss}')\n",
    "\n",
    "    # Backward Pass\n",
    "    W.grad = None\n",
    "    loss.backward()\n",
    "\n",
    "    # Update\n",
    "    W.data += -120 * W.grad"
   ]
  },
  {
   "cell_type": "code",
   "execution_count": 336,
   "id": "20f71ee2-a8dc-4125-91c8-91d874efff3a",
   "metadata": {},
   "outputs": [
    {
     "data": {
      "image/png": "[encoded data removed]",
      "text/plain": [
       "<Figure size 640x480 with 1 Axes>"
      ]
     },
     "metadata": {},
     "output_type": "display_data"
    }
   ],
   "source": [
    "ls_new = [l.item() for l in ls]\n",
    "lsn = torch.tensor(ls_new).detach().numpy()\n",
    "plt.plot(lsn)\n",
    "plt.show()"
   ]
  },
  {
   "cell_type": "code",
   "execution_count": null,
   "id": "3002a9cf-5487-49d6-a5bb-15d494a920c9",
   "metadata": {},
   "outputs": [],
   "source": []
  }
 ],
 "metadata": {
  "kernelspec": {
   "display_name": "Python 3 (ipykernel)",
   "language": "python",
   "name": "python3"
  },
  "language_info": {
   "codemirror_mode": {
    "name": "ipython",
    "version": 3
   },
   "file_extension": ".py",
   "mimetype": "text/x-python",
   "name": "python",
   "nbconvert_exporter": "python",
   "pygments_lexer": "ipython3",
   "version": "3.12.3"
  }
 },
 "nbformat": 4,
 "nbformat_minor": 5
}
