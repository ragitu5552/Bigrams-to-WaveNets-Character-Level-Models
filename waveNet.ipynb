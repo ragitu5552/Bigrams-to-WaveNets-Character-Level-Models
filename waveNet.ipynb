{
 "cells": [
  {
   "cell_type": "code",
   "execution_count": 1,
   "id": "1a431dec-8b75-4adc-91eb-4420e4c2ef90",
   "metadata": {},
   "outputs": [],
   "source": [
    "import torch\n",
    "import torch.nn.functional as F\n",
    "import matplotlib.pyplot as plt\n",
    "%matplotlib inline"
   ]
  },
  {
   "cell_type": "code",
   "execution_count": 2,
   "id": "9678e505-f484-43c6-8db8-4c9d0059b00f",
   "metadata": {},
   "outputs": [
    {
     "data": {
      "text/plain": [
       "['emma', 'olivia', 'ava', 'isabella', 'sophia']"
      ]
     },
     "execution_count": 2,
     "metadata": {},
     "output_type": "execute_result"
    }
   ],
   "source": [
    "words = open('names.txt', 'r').read().splitlines()\n",
    "words[:5]"
   ]
  },
  {
   "cell_type": "code",
   "execution_count": 47,
   "id": "53e64184-0231-4e3f-bf5c-6b140ba5928b",
   "metadata": {},
   "outputs": [],
   "source": [
    "chars = sorted(list(set(''.join(words))))\n",
    "stoi = {s:i+1 for i, s in enumerate(chars)}\n",
    "stoi['.'] = 0\n",
    "itos = {i:s for s, i in stoi.items()}"
   ]
  },
  {
   "cell_type": "code",
   "execution_count": 48,
   "id": "f57aa755-f362-43e6-91eb-f16aad7faab5",
   "metadata": {},
   "outputs": [
    {
     "name": "stdout",
     "output_type": "stream",
     "text": [
      "torch.Size([182580, 8]) torch.Size([182580])\n",
      "torch.Size([22767, 8]) torch.Size([22767])\n",
      "torch.Size([22799, 8]) torch.Size([22799])\n"
     ]
    }
   ],
   "source": [
    "block_size = 8 # context length: how many characters do we take to predict the next one?\n",
    "\n",
    "def build_dataset(words):  \n",
    "  X, Y = [], []\n",
    "  \n",
    "  for w in words:\n",
    "    context = [0] * block_size\n",
    "    for ch in w + '.':\n",
    "      ix = stoi[ch]\n",
    "      X.append(context)\n",
    "      Y.append(ix)\n",
    "      context = context[1:] + [ix] # crop and append\n",
    "\n",
    "  X = torch.tensor(X)\n",
    "  Y = torch.tensor(Y)\n",
    "  print(X.shape, Y.shape)\n",
    "  return X, Y\n",
    "\n",
    "import random\n",
    "random.seed(42)\n",
    "random.shuffle(words)\n",
    "n1 = int(0.8*len(words))\n",
    "n2 = int(0.9*len(words))\n",
    "\n",
    "Xtr,  Ytr  = build_dataset(words[:n1])     # 80%\n",
    "Xdev, Ydev = build_dataset(words[n1:n2])   # 10%\n",
    "Xte,  Yte  = build_dataset(words[n2:])     # 10%"
   ]
  },
  {
   "cell_type": "code",
   "execution_count": 30,
   "id": "9de5e516-d8f8-4e9c-b993-257abafb4e67",
   "metadata": {},
   "outputs": [
    {
     "name": "stdout",
     "output_type": "stream",
     "text": [
      "21686\n"
     ]
    }
   ],
   "source": [
    "n_embd = 10 # the dimensionality of the character embedding vectors\n",
    "n_hidden = 200 # the number of neurons in the hidden layer of the MLP\n",
    "\n",
    "g = torch.Generator().manual_seed(2147483647) # for reproducibility\n",
    "C  = torch.randn((len(itos), n_embd),            generator=g)\n",
    "W1 = torch.randn((n_embd * block_size, n_hidden), generator=g) * (5/3)/((n_embd * block_size)**0.5) #* 0.2\n",
    "b1 = torch.randn(n_hidden,                        generator=g) * 0.01\n",
    "W2 = torch.randn((n_hidden, len(itos)),          generator=g) * 0.01\n",
    "b2 = torch.randn(len(itos),                      generator=g) * 0\n",
    "\n",
    "parameters = [C, W1, W2, b2 , b1]\n",
    "print(sum(p.nelement() for p in parameters)) # number of parameters in total\n",
    "for p in parameters:\n",
    "  p.requires_grad = True"
   ]
  },
  {
   "cell_type": "code",
   "execution_count": 20,
   "id": "3382af71-1dfa-4028-a4be-1521e58d66fa",
   "metadata": {},
   "outputs": [
    {
     "data": {
      "text/plain": [
       "torch.Size([32, 8, 10])"
      ]
     },
     "execution_count": 20,
     "metadata": {},
     "output_type": "execute_result"
    }
   ],
   "source": [
    "C[Xtr[ix]].shape"
   ]
  },
  {
   "cell_type": "code",
   "execution_count": 35,
   "id": "47cfb4b2-4875-42c0-b8f9-8231743bc1c1",
   "metadata": {},
   "outputs": [
    {
     "name": "stdout",
     "output_type": "stream",
     "text": [
      "loss=tensor(2.2682, grad_fn=<NllLossBackward0>)\n"
     ]
    }
   ],
   "source": [
    "# Putting all together\n",
    "lossi = []\n",
    "stepsi = []\n",
    "for i in range(30000):\n",
    "    # Forward Pass\n",
    "    ix = torch.randint(0, Xtr.shape[0], (32,)) # Randomly taking 32 samples from 22000 inputs, 32 x 3 x 2\n",
    "    xs = torch.reshape(C[Xtr[ix]], (32, 80))\n",
    "    h = torch.tanh((xs @ W1 + b1))\n",
    "    logits = h @ W2 + b2\n",
    "    counts = logits.exp()\n",
    "    probs = counts/counts.sum(dim=1, keepdims=True)\n",
    "    \n",
    "    # Loss\n",
    "    loss = F.cross_entropy(logits, Ytr[ix])\n",
    "    lossi.append(loss.item())\n",
    "    stepsi.append(i)\n",
    "    # print(f'Loss after {i}the iteration: {loss}')\n",
    "    # Backward pass\n",
    "    W1.grad = None\n",
    "    b1.grad = None\n",
    "    W2.grad = None\n",
    "    b2.grad = None\n",
    "    loss.backward()\n",
    "    \n",
    "    # Update Weights\n",
    "    if i < 20000:\n",
    "        lr = 0.1\n",
    "    else:\n",
    "        lr = 0.001\n",
    "    C.data += -lr * C.grad\n",
    "    W1.data += -lr * W1.grad\n",
    "    b1.data += -lr * b1.grad\n",
    "    W2.data += -lr * W2.grad\n",
    "    b2.data += -lr * b2.grad\n",
    "print(f'{loss=}')"
   ]
  },
  {
   "cell_type": "code",
   "execution_count": 33,
   "id": "3002a9cf-5487-49d6-a5bb-15d494a920c9",
   "metadata": {},
   "outputs": [
    {
     "data": {
      "text/plain": [
       "[<matplotlib.lines.Line2D at 0x1d1dfe8af90>]"
      ]
     },
     "execution_count": 33,
     "metadata": {},
     "output_type": "execute_result"
    },
    {
     "data": {
      "image/png": "[encoded data removed]",
      "text/plain": [
       "<Figure size 640x480 with 1 Axes>"
      ]
     },
     "metadata": {},
     "output_type": "display_data"
    }
   ],
   "source": [
    "plt.plot(lossi)"
   ]
  },
  {
   "cell_type": "code",
   "execution_count": 36,
   "id": "57c9fe1f-7227-4c9b-95ea-522a85b10bb1",
   "metadata": {},
   "outputs": [
    {
     "name": "stdout",
     "output_type": "stream",
     "text": [
      "mellii.\n",
      "k.\n",
      ".\n",
      "jobyni.\n",
      "r.\n",
      "s.\n",
      "ter.\n",
      "ellede.\n",
      "f.\n",
      "relyins.\n"
     ]
    }
   ],
   "source": [
    "g = torch.Generator().manual_seed(123)\n",
    "\n",
    "for _ in range(10):\n",
    "    \n",
    "    out = []\n",
    "    context = [0] * 8 # initialize with all ...\n",
    "    while True:\n",
    "      emb = C[torch.tensor([context])] # (1,block_size,d)\n",
    "      h = torch.tanh(emb.view(1, -1) @ W1 + b1)\n",
    "      logits = h @ W2 + b2\n",
    "      probs = F.softmax(logits, dim=1)\n",
    "      ix = torch.multinomial(probs, num_samples=1, generator=g).item()\n",
    "      context = context[1:] + [ix]\n",
    "      out.append(ix)\n",
    "      if ix == 0:\n",
    "        break\n",
    "    \n",
    "    print(''.join(itos[i] for i in out))"
   ]
  },
  {
   "cell_type": "code",
   "execution_count": 37,
   "id": "297ddb0a-58ce-4a3a-8e33-4d7109bef99a",
   "metadata": {},
   "outputs": [
    {
     "data": {
      "text/plain": [
       "torch.Size([4, 4, 20])"
      ]
     },
     "execution_count": 37,
     "metadata": {},
     "output_type": "execute_result"
    }
   ],
   "source": [
    "e = torch.randn(4, 8, 10)\n",
    "e.view(4, 4, -1).shape"
   ]
  },
  {
   "cell_type": "markdown",
   "id": "c84e2407-9ec4-4fba-b91e-d857845d4b30",
   "metadata": {},
   "source": [
    "Implementing WaveNet"
   ]
  },
  {
   "cell_type": "code",
   "execution_count": 138,
   "id": "b6dadbfd-3993-40c9-99c9-e560ec37fb38",
   "metadata": {},
   "outputs": [
    {
     "name": "stdout",
     "output_type": "stream",
     "text": [
      "170297\n"
     ]
    }
   ],
   "source": [
    "n_embd = 10 # the dimensionality of the character embedding vectors\n",
    "n_hidden = 200 # the number of neurons in the hidden layer of the MLP\n",
    "\n",
    "g = torch.Generator().manual_seed(2147483647) # for reproducibility\n",
    "C  = torch.randn((len(itos), n_embd),            generator=g)\n",
    "W1 = torch.randn((n_embd * 2, n_hidden), generator=g) * (5/3)/((n_embd * block_size)**0.5) #* 0.2\n",
    "b1 = torch.randn(n_hidden,                        generator=g) * 0.01\n",
    "W2 = torch.randn((n_hidden*2, n_hidden),          generator=g) * 0.01\n",
    "b2 = torch.randn(n_hidden,                      generator=g) * 0\n",
    "W3 = torch.randn((n_hidden*2 , n_hidden), generator=g)*0.01\n",
    "b3 = torch.randn(n_hidden, generator=g)*0.01\n",
    "W4 = torch.randn((n_hidden, len(itos)), generator=g)*0.01\n",
    "b4 = torch.randn(len(itos), generator=g)*0.01\n",
    "parameters = [C, W1, W2, W3, W4, b1, b2, b3, b4]\n",
    "print(sum(p.nelement() for p in parameters)) # number of parameters in total\n",
    "for p in parameters:\n",
    "  p.requires_grad = True"
   ]
  },
  {
   "cell_type": "code",
   "execution_count": 122,
   "id": "006310a9-5f8f-4f88-85b7-e65a62dd6942",
   "metadata": {},
   "outputs": [
    {
     "data": {
      "text/plain": [
       "torch.Size([32])"
      ]
     },
     "execution_count": 122,
     "metadata": {},
     "output_type": "execute_result"
    }
   ],
   "source": []
  },
  {
   "cell_type": "code",
   "execution_count": 139,
   "id": "f16deef4-96e8-4ee4-bf25-e4a1882a65c5",
   "metadata": {},
   "outputs": [
    {
     "name": "stdout",
     "output_type": "stream",
     "text": [
      "tensor(1.9416, grad_fn=<NllLossBackward0>)\n"
     ]
    }
   ],
   "source": [
    "# Forward Pass\n",
    "loss = []\n",
    "for i in range(30000):\n",
    "    ix = torch.randint(0, Xtr.shape[0], (32, )) # Randomly taking 32 samples from Xtr as a Batch \n",
    "    \n",
    "    flatten1 = C[Xtr[ix]].view(32, -1, 20) \n",
    "    activation1 = flatten1 @ W1 + b1\n",
    "    \n",
    "    a, b, c  = activation1.shape\n",
    "    flatten2 = activation1.view(a, int(b/2), c*2)\n",
    "    activation2 = flatten2 @ W2 + b2\n",
    "    \n",
    "    d, e, f = activation2.shape\n",
    "    flatten3 = torch.squeeze(activation2.view(d, int(e/2), f*2), dim=1) # squeezing 32x1x400 to 32 x 400\n",
    "    activation3 = flatten3 @ W3 + b3\n",
    "    \n",
    "    logits = activation3 @ W4 + b4\n",
    "    counts = logits.exp()\n",
    "    probs = counts/counts.sum(1, keepdims=True)\n",
    "    \n",
    "    # Loss\n",
    "    lossi = -1 * probs[torch.arange(32), Ytr[ix]].log().sum()\n",
    "    lossi = lossi/32.0\n",
    "    \n",
    "    lossf = F.cross_entropy(logits, Ytr[ix])\n",
    "    loss.append(lossf.item())\n",
    "    \n",
    "    # Backward Pass\n",
    "    for p in parameters:\n",
    "        p.grad = None\n",
    "    \n",
    "    lossf.backward()\n",
    "    \n",
    "    # Update weights\n",
    "    if lr < 20000:\n",
    "        lr = 0.1\n",
    "    else:\n",
    "        lr = 0.001\n",
    "    for p in parameters:\n",
    "        p.data += -lr* p.grad\n",
    "print(lossf)"
   ]
  },
  {
   "cell_type": "code",
   "execution_count": 144,
   "id": "06692aaa-8e90-4377-a876-69c614369281",
   "metadata": {},
   "outputs": [
    {
     "data": {
      "text/plain": [
       "[<matplotlib.lines.Line2D at 0x1d1e6084740>]"
      ]
     },
     "execution_count": 144,
     "metadata": {},
     "output_type": "execute_result"
    },
    {
     "data": {
      "image/png": "[encoded data removed]",
      "text/plain": [
       "<Figure size 640x480 with 1 Axes>"
      ]
     },
     "metadata": {},
     "output_type": "display_data"
    }
   ],
   "source": [
    "plt.plot(torch.tensor(loss).view(-1, 200).mean(1))"
   ]
  },
  {
   "cell_type": "code",
   "execution_count": null,
   "id": "af38cb59-5f61-4450-a726-f5dcbf2c320c",
   "metadata": {},
   "outputs": [],
   "source": [
    "# Putting all together\n",
    "lossi = []\n",
    "stepsi = []\n",
    "for i in range(30000):\n",
    "    # Forward Pass\n",
    "    ix = torch.randint(0, Xtr.shape[0], (32,)) # Randomly taking 32 samples from 22000 inputs, 32 x 3 x 2\n",
    "    emb = C[Xtr[ix]].view(32, -1, 20)   # Not shoving all info only taking 20 at a time with batch size of 4 in one sample (making context of size 8, 2 at a time 4 times)\n",
    "    h = torch.tanh((xs @ W1 + b1))\n",
    "    logits = h @ W2 + b2\n",
    "    counts = logits.exp()\n",
    "    probs = counts/counts.sum(dim=1, keepdims=True)\n",
    "    \n",
    "    # Loss\n",
    "    loss = F.cross_entropy(logits, Ytr[ix])\n",
    "    lossi.append(loss.item())\n",
    "    stepsi.append(i)\n",
    "    # print(f'Loss after {i}the iteration: {loss}')\n",
    "    # Backward pass\n",
    "    W1.grad = None\n",
    "    b1.grad = None\n",
    "    W2.grad = None\n",
    "    b2.grad = None\n",
    "    loss.backward()\n",
    "    \n",
    "    # Update Weights\n",
    "    if i < 20000:\n",
    "        lr = 0.1\n",
    "    else:\n",
    "        lr = 0.001\n",
    "    C.data += -lr * C.grad\n",
    "    W1.data += -lr * W1.grad\n",
    "    b1.data += -lr * b1.grad\n",
    "    W2.data += -lr * W2.grad\n",
    "    b2.data += -lr * b2.grad\n",
    "print(f'{loss=}')"
   ]
  }
 ],
 "metadata": {
  "kernelspec": {
   "display_name": "Python 3 (ipykernel)",
   "language": "python",
   "name": "python3"
  },
  "language_info": {
   "codemirror_mode": {
    "name": "ipython",
    "version": 3
   },
   "file_extension": ".py",
   "mimetype": "text/x-python",
   "name": "python",
   "nbconvert_exporter": "python",
   "pygments_lexer": "ipython3",
   "version": "3.12.3"
  }
 },
 "nbformat": 4,
 "nbformat_minor": 5
}
